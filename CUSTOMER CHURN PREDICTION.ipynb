{
 "cells": [
  {
   "cell_type": "code",
   "execution_count": 3,
   "id": "d6b2d7fc",
   "metadata": {},
   "outputs": [
    {
     "name": "stdout",
     "output_type": "stream",
     "text": [
      "Overview of the dataset:n\n",
      "Number of rows:  10000\n",
      "nNumber of features: 14\n",
      "nData Features:\n",
      "['RowNumber', 'CustomerId', 'Surname', 'CreditScore', 'Geography', 'Gender', 'Age', 'Tenure', 'Balance', 'NumOfProducts', 'HasCrCard', 'IsActiveMember', 'EstimatedSalary', 'Exited']\n",
      "nMissing values: 0\n",
      "nUnique values:\n",
      "RowNumber          10000\n",
      "CustomerId         10000\n",
      "Surname             2932\n",
      "CreditScore          460\n",
      "Geography              3\n",
      "Gender                 2\n",
      "Age                   70\n",
      "Tenure                11\n",
      "Balance             6382\n",
      "NumOfProducts          4\n",
      "HasCrCard              2\n",
      "IsActiveMember         2\n",
      "EstimatedSalary     9999\n",
      "Exited                 2\n",
      "dtype: int64\n"
     ]
    }
   ],
   "source": [
    "#Import libraries\n",
    "import numpy as np \n",
    "import pandas as pd \n",
    "pd.set_option('display.max_columns', None)\n",
    "\n",
    "import plotly.express as px\n",
    "import matplotlib.pyplot as plt \n",
    "\n",
    "#Read the dataset\n",
    "data_df = pd.read_csv(\"Churn_Modelling.csv\")\n",
    "\n",
    "#Get overview of the data\n",
    "def dataoveriew(df, message):\n",
    "    print(f'{message}:n')\n",
    "    print('Number of rows: ', df.shape[0])\n",
    "    print(\"nNumber of features:\", df.shape[1])\n",
    "    print(\"nData Features:\")\n",
    "    print(df.columns.tolist())\n",
    "    print(\"nMissing values:\", df.isnull().sum().values.sum())\n",
    "    print(\"nUnique values:\")\n",
    "    print(df.nunique())\n",
    "\n",
    "dataoveriew(data_df, 'Overview of the dataset')"
   ]
  },
  {
   "cell_type": "code",
   "execution_count": 8,
   "id": "329ffd81",
   "metadata": {},
   "outputs": [
    {
     "name": "stdout",
     "output_type": "stream",
     "text": [
      "<class 'pandas.core.frame.DataFrame'>\n",
      "RangeIndex: 10000 entries, 0 to 9999\n",
      "Data columns (total 14 columns):\n",
      " #   Column           Non-Null Count  Dtype  \n",
      "---  ------           --------------  -----  \n",
      " 0   RowNumber        10000 non-null  int64  \n",
      " 1   CustomerId       10000 non-null  int64  \n",
      " 2   Surname          10000 non-null  object \n",
      " 3   CreditScore      10000 non-null  int64  \n",
      " 4   Geography        10000 non-null  object \n",
      " 5   Gender           10000 non-null  object \n",
      " 6   Age              10000 non-null  int64  \n",
      " 7   Tenure           10000 non-null  int64  \n",
      " 8   Balance          10000 non-null  float64\n",
      " 9   NumOfProducts    10000 non-null  int64  \n",
      " 10  HasCrCard        10000 non-null  int64  \n",
      " 11  IsActiveMember   10000 non-null  int64  \n",
      " 12  EstimatedSalary  10000 non-null  float64\n",
      " 13  Exited           10000 non-null  int64  \n",
      "dtypes: float64(2), int64(9), object(3)\n",
      "memory usage: 1.1+ MB\n"
     ]
    },
    {
     "data": {
      "text/plain": [
       "0.479"
      ]
     },
     "execution_count": 8,
     "metadata": {},
     "output_type": "execute_result"
    }
   ],
   "source": [
    "import pandas as pd\n",
    "data_df=pd.read_csv('Churn_Modelling.csv')\n",
    "\n",
    "data_df.head()\n",
    "\n",
    "data_df.info()\n",
    "\n",
    "data_df.isnull().sum()\n",
    "\n",
    "from sklearn.preprocessing import LabelEncoder\n",
    "le=LabelEncoder()\n",
    "\n",
    "x= data_df[[\"CustomerId\",\"CreditScore\",\"Age\",\"Tenure\",\"IsActiveMember\"]]\n",
    "x.head\n",
    "\n",
    "y=data_df[\"NumOfProducts\"]\n",
    "\n",
    "from sklearn.model_selection import train_test_split\n",
    "x_train,x_test,y_train,y_test=train_test_split(x,y,test_size=0.2,random_state=100)\n",
    "\n",
    "from sklearn.tree import DecisionTreeClassifier\n",
    "dt=DecisionTreeClassifier(criterion=\"entropy\")\n",
    "dt.fit(x_train,y_train)\n",
    "y_pred=dt.predict(x_test)\n",
    "\n",
    "from sklearn import metrics\n",
    "accuracy=metrics.accuracy_score(y_test,y_pred)\n",
    "accuracy\n"
   ]
  },
  {
   "cell_type": "code",
   "execution_count": null,
   "id": "e4b73d59",
   "metadata": {},
   "outputs": [],
   "source": []
  }
 ],
 "metadata": {
  "kernelspec": {
   "display_name": "Python 3 (ipykernel)",
   "language": "python",
   "name": "python3"
  },
  "language_info": {
   "codemirror_mode": {
    "name": "ipython",
    "version": 3
   },
   "file_extension": ".py",
   "mimetype": "text/x-python",
   "name": "python",
   "nbconvert_exporter": "python",
   "pygments_lexer": "ipython3",
   "version": "3.11.4"
  }
 },
 "nbformat": 4,
 "nbformat_minor": 5
}
